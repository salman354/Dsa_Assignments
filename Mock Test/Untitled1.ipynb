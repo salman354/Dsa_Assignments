{
 "cells": [
  {
   "cell_type": "code",
   "execution_count": null,
   "id": "be732bd8",
   "metadata": {},
   "outputs": [],
   "source": [
    "arr=[1,2,45,67,78]\n",
    "result=linear_search(arr,67)\n",
    "print(\"Element  is found at index \",result)\n"
   ]
  },
  {
   "cell_type": "code",
   "execution_count": null,
   "id": "6745b8bf",
   "metadata": {},
   "outputs": [],
   "source": [
    "def linear_search(arr,x):\n",
    "    for i in range(len(arr)):\n",
    "        if arr[i]==x:\n",
    "            return i\n",
    "    return -1"
   ]
  },
  {
   "cell_type": "code",
   "execution_count": null,
   "id": "9a3df260",
   "metadata": {},
   "outputs": [],
   "source": [
    "range(len(arr))"
   ]
  },
  {
   "cell_type": "code",
   "execution_count": null,
   "id": "70a20719",
   "metadata": {},
   "outputs": [],
   "source": [
    "arr=[1,23,56,78,89,113,445,678,899,978]"
   ]
  },
  {
   "cell_type": "code",
   "execution_count": null,
   "id": "09137e30",
   "metadata": {},
   "outputs": [],
   "source": [
    "n=len(a)\n",
    "n"
   ]
  },
  {
   "cell_type": "code",
   "execution_count": null,
   "id": "89279a18",
   "metadata": {},
   "outputs": [],
   "source": [
    "a=[1]"
   ]
  },
  {
   "cell_type": "code",
   "execution_count": null,
   "id": "058debc4",
   "metadata": {},
   "outputs": [],
   "source": [
    "i=0\n",
    "j=len(arr)-1\n",
    "x=1133\n",
    "result=binary_search(arr,i,j,x)\n",
    "print(\"Element found at the index\",result)"
   ]
  },
  {
   "cell_type": "code",
   "execution_count": null,
   "id": "5770de84",
   "metadata": {},
   "outputs": [],
   "source": [
    "def binary_search(arr,i,j,x):\n",
    "    mid=i+(j-1)//2\n",
    "    if j==1:\n",
    "        return mid\n",
    "    elif arr[mid]==x:\n",
    "        return mid\n",
    "    elif arr[mid]==x:\n",
    "        return mid\n",
    "    elif arr[mid]>x:\n",
    "        return binary_search(arr,i,mid-1,x)\n",
    "    elif arr[mid]<x:\n",
    "        return binary_search(arr,mid+1,j,x)\n",
    "        \n",
    "    else:\n",
    "        return -1\n",
    "        \n",
    "        "
   ]
  },
  {
   "cell_type": "code",
   "execution_count": null,
   "id": "9acb8423",
   "metadata": {},
   "outputs": [],
   "source": [
    "A=float(\"inf\")"
   ]
  },
  {
   "cell_type": "code",
   "execution_count": null,
   "id": "33f13d97",
   "metadata": {},
   "outputs": [],
   "source": [
    "A"
   ]
  },
  {
   "cell_type": "code",
   "execution_count": null,
   "id": "f2637a81",
   "metadata": {},
   "outputs": [],
   "source": [
    "#bubble sort algorithm\n",
    "#time complexity O(n^2)\n",
    "#space complexity O(1)\n",
    "\n",
    "def bubble_sort(arr):\n",
    "    n=len(arr)-1\n",
    "    for i in range(n):\n",
    "        for j in range(n-1):\n",
    "            if arr[j]>arr[j+1]:\n",
    "                arr[j],arr[j+1]=arr[j+1],arr[j]\n",
    "    return arr           \n",
    "\n",
    "#driver code\n",
    "arr=[45,47,9,4,12,423,967]\n",
    "result=bubble_sort(arr)\n",
    "print('the sorted array:',result)"
   ]
  },
  {
   "cell_type": "code",
   "execution_count": null,
   "id": "9c2fbc31",
   "metadata": {},
   "outputs": [],
   "source": [
    "def selection_sort(arr):\n",
    "    n=len(arr)-1\n",
    "    min=0\n",
    "    for i in range(n):\n",
    "        for j in range(i+1,n):\n",
    "            if arr[j]>min:\n",
    "                min=arr[j]\n",
    "        arr[i]=min       \n",
    "    return arr\n",
    "#driver code\n",
    "arr=[45,47,9,4,12,423,967]\n",
    "result=selection_sort(arr)\n",
    "print('the sorted array:',result)"
   ]
  },
  {
   "cell_type": "code",
   "execution_count": null,
   "id": "4f4027d8",
   "metadata": {},
   "outputs": [],
   "source": [
    "arr"
   ]
  },
  {
   "cell_type": "code",
   "execution_count": null,
   "id": "9ed5e5d1",
   "metadata": {},
   "outputs": [],
   "source": [
    "#selection sort\n",
    "#time complexity 0(n^2)\n",
    "#space complexity O(1)\n",
    "\n",
    "def selection_sort(arr):\n",
    "    n=len(arr)\n",
    "    for i in range(n):\n",
    "        min_index=i\n",
    "        for j in range(i+1,n):\n",
    "            if arr[j]<arr[min_index]:\n",
    "                min_index=j\n",
    "        arr[i],arr[min_index]=arr[min_index],arr[i]          \n",
    "    return arr\n",
    "#driver code\n",
    "arr=[45,47,9,4,12,423,967]\n",
    "result=selection_sort(arr)\n",
    "print('the sorted array:',result)"
   ]
  },
  {
   "cell_type": "code",
   "execution_count": null,
   "id": "6d022c5d",
   "metadata": {},
   "outputs": [],
   "source": [
    "def insertion_sort(arr):\n",
    "    h\n",
    "    \n",
    "\n",
    "\n",
    "\n",
    "\n",
    "#driver code\n",
    "arr=[65,12,78,45,90,2,5]\n",
    "result=insertion_sort(arr)\n",
    "print('the sorted array:',result)"
   ]
  },
  {
   "cell_type": "code",
   "execution_count": 10,
   "id": "aed80621",
   "metadata": {},
   "outputs": [],
   "source": [
    "#LINKED LIST \n",
    "class Node:\n",
    "    def __init__(self,data):\n",
    "        self.data=data\n",
    "        self.next=None\n",
    "        \n",
    "class linked_list:\n",
    "    def __int__(self):\n",
    "        self.head=None\n",
    "        \n",
    "    def insertAtFirst(self,value):\n",
    "        new_node=Node(value)\n",
    "        new_node.next=self.head\n",
    "        self.head=new_node    \n",
    "        \n",
    "    def print_list(head):\n",
    "        temp=head\n",
    "        while(temp):\n",
    "            print(temp.data)\n",
    "            temp=temp.next\n",
    "            \n",
    "\n",
    "    def view_list(self):\n",
    "        if self.head==None:\n",
    "            print(\"the is empty\")\n",
    "        else:\n",
    "            temp=self.head\n",
    "            while temp!=None:\n",
    "                print(temp.data)\n",
    "                temp=temp.next   \n",
    "        "
   ]
  },
  {
   "cell_type": "code",
   "execution_count": 11,
   "id": "09e4340e",
   "metadata": {},
   "outputs": [],
   "source": [
    "l1=linked_list()"
   ]
  },
  {
   "cell_type": "code",
   "execution_count": 12,
   "id": "69916f53",
   "metadata": {},
   "outputs": [
    {
     "ename": "AttributeError",
     "evalue": "'linked_list' object has no attribute 'head'",
     "output_type": "error",
     "traceback": [
      "\u001b[1;31m---------------------------------------------------------------------------\u001b[0m",
      "\u001b[1;31mAttributeError\u001b[0m                            Traceback (most recent call last)",
      "\u001b[1;32m~\\AppData\\Local\\Temp/ipykernel_6972/3428510627.py\u001b[0m in \u001b[0;36m<module>\u001b[1;34m\u001b[0m\n\u001b[1;32m----> 1\u001b[1;33m \u001b[0ml1\u001b[0m\u001b[1;33m.\u001b[0m\u001b[0minsertAtFirst\u001b[0m\u001b[1;33m(\u001b[0m\u001b[1;36m3\u001b[0m\u001b[1;33m)\u001b[0m\u001b[1;33m\u001b[0m\u001b[1;33m\u001b[0m\u001b[0m\n\u001b[0m\u001b[0;32m      2\u001b[0m \u001b[0ml1\u001b[0m\u001b[1;33m.\u001b[0m\u001b[0minsertAtFirst\u001b[0m\u001b[1;33m(\u001b[0m\u001b[1;36m13\u001b[0m\u001b[1;33m)\u001b[0m\u001b[1;33m\u001b[0m\u001b[1;33m\u001b[0m\u001b[0m\n\u001b[0;32m      3\u001b[0m \u001b[0ml1\u001b[0m\u001b[1;33m.\u001b[0m\u001b[0minsertAtFirst\u001b[0m\u001b[1;33m(\u001b[0m\u001b[1;36m311\u001b[0m\u001b[1;33m)\u001b[0m\u001b[1;33m\u001b[0m\u001b[1;33m\u001b[0m\u001b[0m\n\u001b[0;32m      4\u001b[0m \u001b[0ml1\u001b[0m\u001b[1;33m.\u001b[0m\u001b[0minsertAtFirst\u001b[0m\u001b[1;33m(\u001b[0m\u001b[1;36m31\u001b[0m\u001b[1;33m)\u001b[0m\u001b[1;33m\u001b[0m\u001b[1;33m\u001b[0m\u001b[0m\n",
      "\u001b[1;32m~\\AppData\\Local\\Temp/ipykernel_6972/1069026760.py\u001b[0m in \u001b[0;36minsertAtFirst\u001b[1;34m(self, value)\u001b[0m\n\u001b[0;32m     11\u001b[0m     \u001b[1;32mdef\u001b[0m \u001b[0minsertAtFirst\u001b[0m\u001b[1;33m(\u001b[0m\u001b[0mself\u001b[0m\u001b[1;33m,\u001b[0m\u001b[0mvalue\u001b[0m\u001b[1;33m)\u001b[0m\u001b[1;33m:\u001b[0m\u001b[1;33m\u001b[0m\u001b[1;33m\u001b[0m\u001b[0m\n\u001b[0;32m     12\u001b[0m         \u001b[0mnew_node\u001b[0m\u001b[1;33m=\u001b[0m\u001b[0mNode\u001b[0m\u001b[1;33m(\u001b[0m\u001b[0mvalue\u001b[0m\u001b[1;33m)\u001b[0m\u001b[1;33m\u001b[0m\u001b[1;33m\u001b[0m\u001b[0m\n\u001b[1;32m---> 13\u001b[1;33m         \u001b[0mnew_node\u001b[0m\u001b[1;33m.\u001b[0m\u001b[0mnext\u001b[0m\u001b[1;33m=\u001b[0m\u001b[0mself\u001b[0m\u001b[1;33m.\u001b[0m\u001b[0mhead\u001b[0m\u001b[1;33m\u001b[0m\u001b[1;33m\u001b[0m\u001b[0m\n\u001b[0m\u001b[0;32m     14\u001b[0m         \u001b[0mself\u001b[0m\u001b[1;33m.\u001b[0m\u001b[0mhead\u001b[0m\u001b[1;33m=\u001b[0m\u001b[0mnew_node\u001b[0m\u001b[1;33m\u001b[0m\u001b[1;33m\u001b[0m\u001b[0m\n\u001b[0;32m     15\u001b[0m \u001b[1;33m\u001b[0m\u001b[0m\n",
      "\u001b[1;31mAttributeError\u001b[0m: 'linked_list' object has no attribute 'head'"
     ]
    }
   ],
   "source": [
    "l1.insertAtFirst(3)\n",
    "l1.insertAtFirst(13)\n",
    "l1.insertAtFirst(311)\n",
    "l1.insertAtFirst(31)"
   ]
  },
  {
   "cell_type": "code",
   "execution_count": null,
   "id": "0233cc3a",
   "metadata": {},
   "outputs": [],
   "source": [
    "l1.print_list()"
   ]
  },
  {
   "cell_type": "code",
   "execution_count": null,
   "id": "460c166f",
   "metadata": {},
   "outputs": [],
   "source": []
  },
  {
   "cell_type": "code",
   "execution_count": 6,
   "id": "5ccd99ce",
   "metadata": {},
   "outputs": [],
   "source": [
    "mylist=linked_list()"
   ]
  },
  {
   "cell_type": "code",
   "execution_count": 7,
   "id": "2663ffcb",
   "metadata": {},
   "outputs": [
    {
     "ename": "AttributeError",
     "evalue": "'NoneType' object has no attribute 'next'",
     "output_type": "error",
     "traceback": [
      "\u001b[1;31m---------------------------------------------------------------------------\u001b[0m",
      "\u001b[1;31mAttributeError\u001b[0m                            Traceback (most recent call last)",
      "\u001b[1;32m~\\AppData\\Local\\Temp/ipykernel_6972/3769112751.py\u001b[0m in \u001b[0;36m<module>\u001b[1;34m\u001b[0m\n\u001b[0;32m      1\u001b[0m \u001b[0mmylist\u001b[0m\u001b[1;33m.\u001b[0m\u001b[0madd_in_last\u001b[0m\u001b[1;33m(\u001b[0m\u001b[1;36m16\u001b[0m\u001b[1;33m)\u001b[0m\u001b[1;33m\u001b[0m\u001b[1;33m\u001b[0m\u001b[0m\n\u001b[1;32m----> 2\u001b[1;33m \u001b[0mmylist\u001b[0m\u001b[1;33m.\u001b[0m\u001b[0madd_in_last\u001b[0m\u001b[1;33m(\u001b[0m\u001b[1;36m15\u001b[0m\u001b[1;33m)\u001b[0m\u001b[1;33m\u001b[0m\u001b[1;33m\u001b[0m\u001b[0m\n\u001b[0m\u001b[0;32m      3\u001b[0m \u001b[0mmylist\u001b[0m\u001b[1;33m.\u001b[0m\u001b[0madd_in_last\u001b[0m\u001b[1;33m(\u001b[0m\u001b[1;36m17\u001b[0m\u001b[1;33m)\u001b[0m\u001b[1;33m\u001b[0m\u001b[1;33m\u001b[0m\u001b[0m\n",
      "\u001b[1;32m~\\AppData\\Local\\Temp/ipykernel_6972/2501639107.py\u001b[0m in \u001b[0;36madd_in_last\u001b[1;34m(self, value)\u001b[0m\n\u001b[0;32m     34\u001b[0m                 \u001b[0mtemp\u001b[0m\u001b[1;33m=\u001b[0m\u001b[0mtemp\u001b[0m\u001b[1;33m.\u001b[0m\u001b[0mnext\u001b[0m\u001b[1;33m\u001b[0m\u001b[1;33m\u001b[0m\u001b[0m\n\u001b[0;32m     35\u001b[0m             \u001b[0mnew_node\u001b[0m\u001b[1;33m=\u001b[0m\u001b[0mtemp\u001b[0m\u001b[1;33m.\u001b[0m\u001b[0mnext\u001b[0m\u001b[1;33m\u001b[0m\u001b[1;33m\u001b[0m\u001b[0m\n\u001b[1;32m---> 36\u001b[1;33m             \u001b[0mnew_node\u001b[0m\u001b[1;33m.\u001b[0m\u001b[0mnext\u001b[0m\u001b[1;33m=\u001b[0m\u001b[1;32mNone\u001b[0m\u001b[1;33m\u001b[0m\u001b[1;33m\u001b[0m\u001b[0m\n\u001b[0m\u001b[0;32m     37\u001b[0m \u001b[1;33m\u001b[0m\u001b[0m\n\u001b[0;32m     38\u001b[0m     \u001b[1;32mdef\u001b[0m \u001b[0mview_list\u001b[0m\u001b[1;33m(\u001b[0m\u001b[0mself\u001b[0m\u001b[1;33m)\u001b[0m\u001b[1;33m:\u001b[0m\u001b[1;33m\u001b[0m\u001b[1;33m\u001b[0m\u001b[0m\n",
      "\u001b[1;31mAttributeError\u001b[0m: 'NoneType' object has no attribute 'next'"
     ]
    }
   ],
   "source": [
    "mylist.add_in_last(16)\n",
    "mylist.add_in_last(15)\n",
    "mylist.add_in_last(17)\n"
   ]
  },
  {
   "cell_type": "code",
   "execution_count": 9,
   "id": "f808cd48",
   "metadata": {},
   "outputs": [
    {
     "name": "stdout",
     "output_type": "stream",
     "text": [
      "17\n",
      "15\n",
      "16\n"
     ]
    }
   ],
   "source": [
    "class Node:\n",
    "    def __init__(self,data):\n",
    "        self.data=data\n",
    "        self.next=None\n",
    "\n",
    "class linked_list():\n",
    "    def __init__(self):\n",
    "        self.head=None\n",
    "\n",
    "    def insert_first(self,value):\n",
    "        new_node=Node(value)\n",
    "        new_node.next=self.head\n",
    "        self.head=new_node\n",
    "\n",
    "    def view_list(self):\n",
    "            if self.head==None:\n",
    "                 return(\"list empty\")\n",
    "            temp=self.head\n",
    "            while temp:\n",
    "                print(temp.data)\n",
    "                temp=temp.next\n",
    "                \n",
    "                \n",
    "    def insertAtlast(self):\n",
    "        \n",
    "mylist=linked_list()\n",
    "mylist.insert_first(16)\n",
    "mylist.insert_first(15)\n",
    "mylist.insert_first(17)\n",
    "mylist.view_list()"
   ]
  },
  {
   "cell_type": "code",
   "execution_count": null,
   "id": "dd942d27",
   "metadata": {},
   "outputs": [],
   "source": []
  }
 ],
 "metadata": {
  "kernelspec": {
   "display_name": "Python 3 (ipykernel)",
   "language": "python",
   "name": "python3"
  },
  "language_info": {
   "codemirror_mode": {
    "name": "ipython",
    "version": 3
   },
   "file_extension": ".py",
   "mimetype": "text/x-python",
   "name": "python",
   "nbconvert_exporter": "python",
   "pygments_lexer": "ipython3",
   "version": "3.9.7"
  }
 },
 "nbformat": 4,
 "nbformat_minor": 5
}
