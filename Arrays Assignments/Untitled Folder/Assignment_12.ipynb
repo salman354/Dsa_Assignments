{
 "cells": [
  {
   "cell_type": "markdown",
   "id": "1c5cf0d0",
   "metadata": {},
   "source": [
    "# Assignment:12"
   ]
  },
  {
   "cell_type": "markdown",
   "id": "fe86d9b7",
   "metadata": {},
   "source": [
    "**Question 1**\n",
    "\n",
    "Given a singly linked list, delete **middle** of the linked list. For example, if given linked list is 1->2->**3**->4->5 then linked list should be modified to 1->2->4->5.If there are **even** nodes, then there would be **two middle** nodes, we need to delete the second middle element. For example, if given linked list is 1->2->3->4->5->6 then it should be modified to 1->2->3->5->6.If the input linked list is NULL or has 1 node, then it should return NULL\n"
   ]
  },
  {
   "cell_type": "code",
   "execution_count": 24,
   "id": "93567aa1",
   "metadata": {},
   "outputs": [
    {
     "name": "stdout",
     "output_type": "stream",
     "text": [
      "Given Linked List\n",
      "1->2->3->4->5->NULL\n",
      "Linked List after deletion of middle\n",
      "1->2->4->5->NULL\n"
     ]
    }
   ],
   "source": [
    "class Node:\n",
    "\n",
    "    def __init__(self, data):\n",
    "\n",
    "        self.data = data\n",
    "        self.next = None\n",
    "class LinkedList:\n",
    "    def __init__(self):\n",
    "        self.head = None\n",
    "        \n",
    "        \n",
    "    def addToList(self, data): \n",
    "        newNode = Node(data)\n",
    "        if self.head is None:\n",
    "            self.head = newNode\n",
    "            return\n",
    "        last = self.head\n",
    "        while last.next:\n",
    "            last = last.next\n",
    "        last.next = newNode\n",
    "        \n",
    "        \n",
    "    def __str__(self):\n",
    "        linkedListStr = \"\"\n",
    "        temp = self.head\n",
    "        while temp:\n",
    "            linkedListStr += str(temp.data) + \"->\"\n",
    "            temp = temp.next\n",
    "        return linkedListStr + \"NULL\"\n",
    "    \n",
    "    \n",
    "    def deleteMid(self):\n",
    "        if (self.head is None or\n",
    "            self.head.next is None):\n",
    "            return\n",
    "        slow_Ptr = self.head\n",
    "        fast_Ptr = self.head\n",
    "        prev = None\n",
    "        while (fast_Ptr is not None and\n",
    "            fast_Ptr.next is not None):\n",
    "            fast_Ptr = fast_Ptr.next.next\n",
    "            prev = slow_Ptr\n",
    "            slow_Ptr = slow_Ptr.next\n",
    "        prev.next = slow_Ptr.next\n",
    "\n",
    "linkedList = LinkedList()\n",
    "linkedList.addToList(1)\n",
    "linkedList.addToList(2)\n",
    "linkedList.addToList(3)\n",
    "linkedList.addToList(4)\n",
    "linkedList.addToList(5)\n",
    "\n",
    "print(\"Given Linked List\")\n",
    "print(linkedList)\n",
    "\n",
    "linkedList.deleteMid()\n",
    "\n",
    "print(\"Linked List after deletion of middle\")\n",
    "print(linkedList)\n"
   ]
  },
  {
   "cell_type": "markdown",
   "id": "2c7ec9b4",
   "metadata": {},
   "source": [
    "**Question 2**\n",
    "\n",
    "Given a linked list of **N** nodes. The task is to check if the linked list has a loop. Linked list can contain self loop.\n",
    "\n"
   ]
  },
  {
   "cell_type": "code",
   "execution_count": 62,
   "id": "6770a18f",
   "metadata": {},
   "outputs": [],
   "source": [
    "class ListNode:\n",
    "    def __init__(self, val=0, next=None):\n",
    "        self.val = val\n",
    "        self.next = next\n",
    "\n",
    "def hasCycle(head):\n",
    "    if head is None or head.next is None:\n",
    "        return False\n",
    "\n",
    "    slow = head\n",
    "    fast = head\n",
    "\n",
    "    while fast is not None and fast.next is not None:\n",
    "        slow = slow.next\n",
    "        fast = fast.next.next\n",
    "\n",
    "        if slow == fast:\n",
    "            return True\n",
    "\n",
    "    return False\n"
   ]
  },
  {
   "cell_type": "code",
   "execution_count": 65,
   "id": "ac2ec4c5",
   "metadata": {},
   "outputs": [
    {
     "name": "stdout",
     "output_type": "stream",
     "text": [
      "True\n",
      "False\n"
     ]
    }
   ],
   "source": [
    "#for loop Linkedlist\n",
    "head1 = ListNode(1)\n",
    "head1.next = ListNode(2)\n",
    "head1.next.next = ListNode(3)\n",
    "head1.next.next.next = ListNode(4)\n",
    "head1.next.next.next.next = head1.next  \n",
    "\n",
    "print(hasCycle(head1)) \n",
    "\n",
    "#for without loop Linkedlist\n",
    "head2 = ListNode(1)\n",
    "head2.next = ListNode(2)\n",
    "head2.next.next = ListNode(3)\n",
    "head2.next.next.next = ListNode(4)\n",
    "\n",
    "print(hasCycle(head2))  \n"
   ]
  },
  {
   "cell_type": "markdown",
   "id": "f80362c4",
   "metadata": {},
   "source": [
    "**Question 3**\n",
    "\n",
    "Given a linked list consisting of **L** nodes and given a number **N**. The task is to find the **N**th node from the end of the linked list.\n",
    "\n"
   ]
  },
  {
   "cell_type": "code",
   "execution_count": 70,
   "id": "c9744b38",
   "metadata": {},
   "outputs": [],
   "source": [
    "class ListNode:\n",
    "    def __init__(self, val=0, next=None):\n",
    "        self.val = val\n",
    "        self.next = next   \n",
    "\n",
    "def findNthFromEnd(head, N):\n",
    "    if head is None:\n",
    "        return None\n",
    "\n",
    "    fast = head\n",
    "    slow = head\n",
    "\n",
    "   \n",
    "    for _ in range(N):\n",
    "        if fast is None:\n",
    "            return None\n",
    "        fast = fast.next\n",
    "\n",
    "   \n",
    "    while fast is not None:\n",
    "        fast = fast.next\n",
    "        slow = slow.next\n",
    "\n",
    "    return slow\n"
   ]
  },
  {
   "cell_type": "code",
   "execution_count": 76,
   "id": "a7193a32",
   "metadata": {},
   "outputs": [
    {
     "name": "stdout",
     "output_type": "stream",
     "text": [
      "-1\n"
     ]
    }
   ],
   "source": [
    "\n",
    "head = ListNode(10)\n",
    "head.next = ListNode(5)\n",
    "head.next.next = ListNode(100)\n",
    "head.next.next.next = ListNode(5)\n",
    "\n",
    "\n",
    "N = 5\n",
    "result =findNthFromEnd(head, N)\n",
    "if result is not None:\n",
    "    print(result.val) \n",
    "else:\n",
    "    print(-1)\n"
   ]
  },
  {
   "cell_type": "markdown",
   "id": "29135205",
   "metadata": {},
   "source": [
    "**Question 5**\n",
    "\n",
    "Given a linked list of **N** nodes such that it may contain a loop.\n",
    "\n",
    "A loop here means that the last node of the link list is connected to the node at position X(1-based index). If the link list does not have any loop, X=0.\n",
    "\n",
    "Remove the loop from the linked list, if it is present, i.e. unlink the last node which is forming the loop.\n",
    "\n"
   ]
  },
  {
   "cell_type": "code",
   "execution_count": 78,
   "id": "d6809d19",
   "metadata": {},
   "outputs": [],
   "source": [
    "class ListNode:\n",
    "    def __init__(self, val=0, next=None):\n",
    "        self.val = val\n",
    "        self.next = next\n",
    "\n",
    "def removeLoop(head):\n",
    "    if head is None or head.next is None:\n",
    "        return head\n",
    "\n",
    "    slow = head\n",
    "    fast = head\n",
    "\n",
    "   \n",
    "    while fast is not None and fast.next is not None:\n",
    "        slow = slow.next\n",
    "        fast = fast.next.next\n",
    "\n",
    "        if slow == fast:\n",
    "            break\n",
    "\n",
    "    \n",
    "    if fast is None or fast.next is None:\n",
    "        return head\n",
    "\n",
    "   \n",
    "    loopStart = head\n",
    "    while loopStart.next != slow.next:\n",
    "        loopStart = loopStart.next\n",
    "        slow = slow.next\n",
    "\n",
    "   \n",
    "    loopStart.next = None\n",
    "\n",
    "    return head\n"
   ]
  },
  {
   "cell_type": "code",
   "execution_count": 82,
   "id": "f81168a7",
   "metadata": {},
   "outputs": [
    {
     "name": "stdout",
     "output_type": "stream",
     "text": [
      "1->"
     ]
    }
   ],
   "source": [
    "# Example: 1->2->3->4->5->2 (loop)\n",
    "head = ListNode(1)\n",
    "head.next = ListNode(2)\n",
    "head.next.next = ListNode(3)\n",
    "head.next.next.next = ListNode(4)\n",
    "head.next.next.next.next = ListNode(5)\n",
    "head.next.next.next.next.next = head.next  \n",
    "\n",
    "new_head = removeLoop(head)\n",
    "\n",
    "\n",
    "current = new_head\n",
    "while current is not None:\n",
    "    print(current.val, end=\"->\")\n",
    "    current = current.next\n",
    "\n"
   ]
  },
  {
   "cell_type": "markdown",
   "id": "1e22cea7",
   "metadata": {},
   "source": [
    "**Question 6**\n",
    "\n",
    "Given a linked list and two integers M and N. Traverse the linked list such that you retain M nodes then delete next N nodes, continue the same till end of the linked list.\n"
   ]
  },
  {
   "cell_type": "code",
   "execution_count": 83,
   "id": "91c16ba8",
   "metadata": {},
   "outputs": [],
   "source": [
    "class ListNode:\n",
    "    def __init__(self, val=0, next=None):\n",
    "        self.val = val\n",
    "        self.next = next\n",
    "\n",
    "def retainAndDelete(head, M, N):\n",
    "    if head is None:\n",
    "        return None\n",
    "\n",
    "    current = head\n",
    "    count = 0\n",
    "\n",
    "    while current is not None:\n",
    "        count += 1\n",
    "\n",
    "        if count == M:\n",
    "            count = 0\n",
    "            for _ in range(N):\n",
    "                if current.next is None:\n",
    "                    break\n",
    "                current.next = current.next.next\n",
    "\n",
    "        current = current.next\n",
    "\n",
    "    return head\n"
   ]
  },
  {
   "cell_type": "code",
   "execution_count": 84,
   "id": "13907abb",
   "metadata": {},
   "outputs": [
    {
     "name": "stdout",
     "output_type": "stream",
     "text": [
      "1->2->6->7->"
     ]
    }
   ],
   "source": [
    "# Example: 1->2->3->4->5->6->7->8->9->10, M = 2, N = 3\n",
    "head = ListNode(1)\n",
    "head.next = ListNode(2)\n",
    "head.next.next = ListNode(3)\n",
    "head.next.next.next = ListNode(4)\n",
    "head.next.next.next.next = ListNode(5)\n",
    "head.next.next.next.next.next = ListNode(6)\n",
    "head.next.next.next.next.next.next = ListNode(7)\n",
    "head.next.next.next.next.next.next.next = ListNode(8)\n",
    "head.next.next.next.next.next.next.next.next = ListNode(9)\n",
    "head.next.next.next.next.next.next.next.next.next = ListNode(10)\n",
    "\n",
    "M = 2\n",
    "N = 3\n",
    "\n",
    "new_head = retainAndDelete(head, M, N)\n",
    "\n",
    "# Print the modified linked list\n",
    "current = new_head\n",
    "while current is not None:\n",
    "    print(current.val, end=\"->\")\n",
    "    current = current.next\n",
    "# Output: 1->2->6->7\n"
   ]
  },
  {
   "cell_type": "code",
   "execution_count": null,
   "id": "ac01b2e7",
   "metadata": {},
   "outputs": [],
   "source": []
  },
  {
   "cell_type": "markdown",
   "id": "ac4becd9",
   "metadata": {},
   "source": [
    "**Question 8**\n",
    "\n",
    "Given a singly linked list, find if the linked list is [circular] or not.\n"
   ]
  },
  {
   "cell_type": "code",
   "execution_count": 86,
   "id": "71ab28b3",
   "metadata": {},
   "outputs": [],
   "source": [
    "class ListNode:\n",
    "    def __init__(self, val=0, next=None):\n",
    "        self.val = val\n",
    "        self.next = next\n",
    "\n",
    "def isCircular(head):\n",
    "    if head is None:\n",
    "        return False\n",
    "\n",
    "    slow = head\n",
    "    fast = head\n",
    "\n",
    "    while fast is not None and fast.next is not None:\n",
    "        slow = slow.next\n",
    "        fast = fast.next.next\n",
    "\n",
    "        if slow == fast:\n",
    "            return True\n",
    "\n",
    "    return False\n"
   ]
  },
  {
   "cell_type": "code",
   "execution_count": 87,
   "id": "b44c5df8",
   "metadata": {},
   "outputs": [
    {
     "name": "stdout",
     "output_type": "stream",
     "text": [
      "True\n",
      "False\n"
     ]
    }
   ],
   "source": [
    "# Circular Linked List: 1->2->3->4->2 (loop)\n",
    "head = ListNode(1)\n",
    "head.next = ListNode(2)\n",
    "head.next.next = ListNode(3)\n",
    "head.next.next.next = ListNode(4)\n",
    "head.next.next.next.next = head.next  \n",
    "\n",
    "print(isCircular(head))\n",
    "\n",
    "\n",
    "# Non-circular Linked List: 1->2->3->4->5\n",
    "head = ListNode(1)\n",
    "head.next = ListNode(2)\n",
    "head.next.next = ListNode(3)\n",
    "head.next.next.next = ListNode(4)\n",
    "head.next.next.next.next = ListNode(5)\n",
    "\n",
    "print(isCircular(head))\n"
   ]
  },
  {
   "cell_type": "code",
   "execution_count": null,
   "id": "298b32c5",
   "metadata": {},
   "outputs": [],
   "source": []
  },
  {
   "cell_type": "code",
   "execution_count": null,
   "id": "cf94ee73",
   "metadata": {},
   "outputs": [],
   "source": []
  },
  {
   "cell_type": "code",
   "execution_count": null,
   "id": "9d23bc0b",
   "metadata": {},
   "outputs": [],
   "source": []
  },
  {
   "cell_type": "code",
   "execution_count": null,
   "id": "10deef53",
   "metadata": {},
   "outputs": [],
   "source": []
  },
  {
   "cell_type": "code",
   "execution_count": null,
   "id": "867e3139",
   "metadata": {},
   "outputs": [],
   "source": []
  },
  {
   "cell_type": "code",
   "execution_count": null,
   "id": "af1781b3",
   "metadata": {},
   "outputs": [],
   "source": []
  },
  {
   "cell_type": "code",
   "execution_count": null,
   "id": "c31b388b",
   "metadata": {},
   "outputs": [],
   "source": []
  }
 ],
 "metadata": {
  "kernelspec": {
   "display_name": "Python 3 (ipykernel)",
   "language": "python",
   "name": "python3"
  },
  "language_info": {
   "codemirror_mode": {
    "name": "ipython",
    "version": 3
   },
   "file_extension": ".py",
   "mimetype": "text/x-python",
   "name": "python",
   "nbconvert_exporter": "python",
   "pygments_lexer": "ipython3",
   "version": "3.9.7"
  }
 },
 "nbformat": 4,
 "nbformat_minor": 5
}
