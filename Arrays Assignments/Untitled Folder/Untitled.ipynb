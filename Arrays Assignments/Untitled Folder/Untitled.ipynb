{
 "cells": [
  {
   "cell_type": "code",
   "execution_count": null,
   "id": "0769ad7e",
   "metadata": {},
   "outputs": [],
   "source": [
    "#creating linked list "
   ]
  },
  {
   "cell_type": "code",
   "execution_count": 1,
   "id": "4e970216",
   "metadata": {},
   "outputs": [],
   "source": [
    "class Node():\n",
    "    def __init__(self,data):\n",
    "        self.data=data\n",
    "        self.next=None\n",
    "\n",
    "class linked_list():\n",
    "    def __init__(self):\n",
    "        self.head=None\n",
    "        \n",
    "    def insert_first(self,value):\n",
    "        new_node=Node(value)\n",
    "        new_node.next=self.head\n",
    "        self.head=new_node\n",
    "     \n",
    "    def insert_last(self,value):\n",
    "        new_node=Node(value)\n",
    "        if self.head==None:\n",
    "            sel.head=new_node\n",
    "            \n",
    "        else:\n",
    "            temp=self.head\n",
    "            while temp.next!=None:\n",
    "                temp=temp.next\n",
    "            new_node=temp.next\n",
    "            \n",
    "            \n",
    "    def add_in_last(self,value):\n",
    "        new_node=Node(value)\n",
    "        if (self.head==None):\n",
    "            self.head=new_node\n",
    "        else:\n",
    "            temp=self.head\n",
    "            while temp.next!=None:\n",
    "                temp=temp.next\n",
    "            new_node=temp.next\n",
    "            new_node.next=None        \n",
    "          \n",
    "    def view_list(self):\n",
    "        if self.head==None:\n",
    "            print(\"the is empty\")\n",
    "        else:\n",
    "            temp=self.head\n",
    "            while temp!=None:\n",
    "                print(temp.data)\n",
    "                temp=temp.next\n",
    "    "
   ]
  },
  {
   "cell_type": "code",
   "execution_count": 2,
   "id": "14007041",
   "metadata": {},
   "outputs": [],
   "source": [
    "mylist=linked_list()"
   ]
  },
  {
   "cell_type": "code",
   "execution_count": 3,
   "id": "58f0ab0e",
   "metadata": {},
   "outputs": [
    {
     "ename": "AttributeError",
     "evalue": "'NoneType' object has no attribute 'next'",
     "output_type": "error",
     "traceback": [
      "\u001b[1;31m---------------------------------------------------------------------------\u001b[0m",
      "\u001b[1;31mAttributeError\u001b[0m                            Traceback (most recent call last)",
      "\u001b[1;32m~\\AppData\\Local\\Temp/ipykernel_9704/473416935.py\u001b[0m in \u001b[0;36m<module>\u001b[1;34m\u001b[0m\n\u001b[0;32m      1\u001b[0m \u001b[0mmylist\u001b[0m\u001b[1;33m.\u001b[0m\u001b[0madd_in_last\u001b[0m\u001b[1;33m(\u001b[0m\u001b[1;36m16\u001b[0m\u001b[1;33m)\u001b[0m\u001b[1;33m\u001b[0m\u001b[1;33m\u001b[0m\u001b[0m\n\u001b[1;32m----> 2\u001b[1;33m \u001b[0mmylist\u001b[0m\u001b[1;33m.\u001b[0m\u001b[0madd_in_last\u001b[0m\u001b[1;33m(\u001b[0m\u001b[1;36m15\u001b[0m\u001b[1;33m)\u001b[0m\u001b[1;33m\u001b[0m\u001b[1;33m\u001b[0m\u001b[0m\n\u001b[0m\u001b[0;32m      3\u001b[0m \u001b[0mmylist\u001b[0m\u001b[1;33m.\u001b[0m\u001b[0madd_in_last\u001b[0m\u001b[1;33m(\u001b[0m\u001b[1;36m17\u001b[0m\u001b[1;33m)\u001b[0m\u001b[1;33m\u001b[0m\u001b[1;33m\u001b[0m\u001b[0m\n",
      "\u001b[1;32m~\\AppData\\Local\\Temp/ipykernel_9704/1166849631.py\u001b[0m in \u001b[0;36madd_in_last\u001b[1;34m(self, value)\u001b[0m\n\u001b[0;32m     34\u001b[0m                 \u001b[0mtemp\u001b[0m\u001b[1;33m=\u001b[0m\u001b[0mtemp\u001b[0m\u001b[1;33m.\u001b[0m\u001b[0mnext\u001b[0m\u001b[1;33m\u001b[0m\u001b[1;33m\u001b[0m\u001b[0m\n\u001b[0;32m     35\u001b[0m             \u001b[0mnew_node\u001b[0m\u001b[1;33m=\u001b[0m\u001b[0mtemp\u001b[0m\u001b[1;33m.\u001b[0m\u001b[0mnext\u001b[0m\u001b[1;33m\u001b[0m\u001b[1;33m\u001b[0m\u001b[0m\n\u001b[1;32m---> 36\u001b[1;33m             \u001b[0mnew_node\u001b[0m\u001b[1;33m.\u001b[0m\u001b[0mnext\u001b[0m\u001b[1;33m=\u001b[0m\u001b[1;32mNone\u001b[0m\u001b[1;33m\u001b[0m\u001b[1;33m\u001b[0m\u001b[0m\n\u001b[0m\u001b[0;32m     37\u001b[0m \u001b[1;33m\u001b[0m\u001b[0m\n\u001b[0;32m     38\u001b[0m     \u001b[1;32mdef\u001b[0m \u001b[0mview_list\u001b[0m\u001b[1;33m(\u001b[0m\u001b[0mself\u001b[0m\u001b[1;33m)\u001b[0m\u001b[1;33m:\u001b[0m\u001b[1;33m\u001b[0m\u001b[1;33m\u001b[0m\u001b[0m\n",
      "\u001b[1;31mAttributeError\u001b[0m: 'NoneType' object has no attribute 'next'"
     ]
    }
   ],
   "source": [
    "\n",
    "mylist.add_in_last(16)\n",
    "mylist.add_in_last(15)\n",
    "mylist.add_in_last(17)\n"
   ]
  },
  {
   "cell_type": "code",
   "execution_count": null,
   "id": "93e63c6a",
   "metadata": {},
   "outputs": [],
   "source": [
    "mylist.view_list()"
   ]
  },
  {
   "cell_type": "code",
   "execution_count": null,
   "id": "63139697",
   "metadata": {},
   "outputs": [],
   "source": [
    "class Node:\n",
    "    def __init__(self,data):\n",
    "        self.data=data\n",
    "        self.next=None\n",
    "        \n",
    "class linked_list:\n",
    "    def __init__(self,head):\n",
    "        self.head=head\n",
    "     \n",
    "    def addToList(self, data):\n",
    "        newNode = Node(data)\n",
    "        if self.head is None:\n",
    "            self.head = newNode\n",
    "            return\n",
    "        last = self.head\n",
    "        while last.next:\n",
    "            last = last.next\n",
    "        last.next = newNode\n",
    "    \n",
    "    \n",
    "    def view_list(self):\n",
    "        if self.head==None:\n",
    "            print(\"linked list is empty\")   \n",
    "            \n",
    "        else:\n",
    "            temp=self.head\n",
    "            while(temp!=None):\n",
    "                print(temp)\n",
    "                temp=temp.next\n",
    "            "
   ]
  },
  {
   "cell_type": "code",
   "execution_count": null,
   "id": "3e31eef8",
   "metadata": {},
   "outputs": [],
   "source": [
    "mylist=linked_list(1)"
   ]
  },
  {
   "cell_type": "code",
   "execution_count": null,
   "id": "f0380c2d",
   "metadata": {},
   "outputs": [],
   "source": [
    "head=linked_list(1)"
   ]
  },
  {
   "cell_type": "code",
   "execution_count": null,
   "id": "7aa6976d",
   "metadata": {},
   "outputs": [],
   "source": [
    "head.next=linked_list(2)\n",
    "head.next.next=linked_list(4)\n"
   ]
  },
  {
   "cell_type": "code",
   "execution_count": null,
   "id": "5d1dd09a",
   "metadata": {},
   "outputs": [],
   "source": [
    "mylist.view_list()"
   ]
  },
  {
   "cell_type": "code",
   "execution_count": null,
   "id": "4497762b",
   "metadata": {},
   "outputs": [],
   "source": [
    "class Node():\n",
    "    def __init__(self,data):\n",
    "        self.data=data\n",
    "        self.next=None\n",
    "        \n",
    "class linked_list():\n",
    "    def __init__(self,head):\n",
    "        self.head=None\n",
    "        \n",
    "    def inser_last(self,value):\n",
    "        new_node=Node\n",
    "        \n",
    "    def view_list(self,head):\n",
    "        if self.head==None:\n",
    "            print(\"linked list is empty\")   \n",
    "            \n",
    "        else:\n",
    "            temp=self.head\n",
    "            while(temp!=None):\n",
    "                print(temp)\n",
    "                temp=temp.next     \n",
    "        "
   ]
  },
  {
   "cell_type": "code",
   "execution_count": null,
   "id": "bb92accd",
   "metadata": {},
   "outputs": [],
   "source": []
  },
  {
   "cell_type": "code",
   "execution_count": null,
   "id": "ac09684a",
   "metadata": {},
   "outputs": [],
   "source": [
    "class ListNode:\n",
    "    def __init__(self, val=0, next=None):\n",
    "        self.val = val\n",
    "        self.next = next   \n",
    "    \n",
    "    def view_list(self,head):\n",
    "        if self.head==None:\n",
    "            print(\"linked list is empty\")   \n",
    "            \n",
    "        else:\n",
    "            temp=self.head\n",
    "            while(temp!=None):\n",
    "                print(temp)\n",
    "                temp=temp.next"
   ]
  },
  {
   "cell_type": "code",
   "execution_count": null,
   "id": "5066b02a",
   "metadata": {},
   "outputs": [],
   "source": [
    "head.next=linked_list(2)"
   ]
  },
  {
   "cell_type": "code",
   "execution_count": null,
   "id": "e4ccf101",
   "metadata": {},
   "outputs": [],
   "source": [
    "head.view_list()"
   ]
  },
  {
   "cell_type": "code",
   "execution_count": null,
   "id": "01b35956",
   "metadata": {},
   "outputs": [],
   "source": [
    "class Node:\n",
    "    def __init__(self,data):\n",
    "        self.data=data\n",
    "        self.next=None\n",
    "        \n",
    "class linked_list:\n",
    "    def __init__(self):\n",
    "        self.head=None\n",
    "    \n",
    "    def insert_last(self,data):\n",
    "        newnode=Node(data)\n",
    "        if self.head==None:\n",
    "            self.head=newnode\n",
    "            \n",
    "        else:\n",
    "            temp=self.head\n",
    "            while temp!=None:\n",
    "                temp=temp.next\n",
    "            temp.next=newnode\n",
    "                                        \n",
    "        \n",
    "        "
   ]
  },
  {
   "cell_type": "code",
   "execution_count": null,
   "id": "4a07c15c",
   "metadata": {},
   "outputs": [],
   "source": [
    "l=linked_list()"
   ]
  },
  {
   "cell_type": "code",
   "execution_count": null,
   "id": "c902339f",
   "metadata": {},
   "outputs": [],
   "source": [
    "l.insert_last(1)"
   ]
  },
  {
   "cell_type": "code",
   "execution_count": null,
   "id": "907133c9",
   "metadata": {},
   "outputs": [],
   "source": [
    "class Node:\n",
    "\n",
    "    def __init__(self, data):\n",
    "\n",
    "        self.data = data\n",
    "        self.next = None\n",
    "class LinkedList:\n",
    "    def __init__(self):\n",
    "        self.head = None\n",
    "        \n",
    "        \n",
    "    def addToList(self, data): \n",
    "        newNode = Node(data)\n",
    "        if self.head is None:\n",
    "            self.head = newNode\n",
    "            return\n",
    "        last = self.head\n",
    "        while last.next:\n",
    "            last = last.next\n",
    "        last.next = newNode\n",
    "        \n",
    "    def view_list(self):\n",
    "        if self.head==None:\n",
    "            print(\"linked list is empty\")   \n",
    "            \n",
    "        else:\n",
    "            temp=self.head\n",
    "            while(temp!=None):\n",
    "                print(temp.data)\n",
    "                temp=temp.next    \n",
    "        "
   ]
  },
  {
   "cell_type": "code",
   "execution_count": null,
   "id": "a237ddc3",
   "metadata": {},
   "outputs": [],
   "source": [
    "ll=LinkedList()"
   ]
  },
  {
   "cell_type": "code",
   "execution_count": null,
   "id": "0630076b",
   "metadata": {},
   "outputs": [],
   "source": [
    "ll.addToList(12)\n",
    "ll.addToList(18)\n",
    "ll.addToList(13)\n",
    "ll.addToList(16)\n",
    "ll.addToList(19)"
   ]
  },
  {
   "cell_type": "code",
   "execution_count": null,
   "id": "24944c7c",
   "metadata": {},
   "outputs": [],
   "source": [
    "ll3.next.next=LinkedList(35)"
   ]
  },
  {
   "cell_type": "code",
   "execution_count": null,
   "id": "f43936fb",
   "metadata": {},
   "outputs": [],
   "source": [
    "ll3=LinkedList()"
   ]
  },
  {
   "cell_type": "code",
   "execution_count": null,
   "id": "7a95bb3b",
   "metadata": {},
   "outputs": [],
   "source": [
    "head=ll.view_list()"
   ]
  },
  {
   "cell_type": "code",
   "execution_count": null,
   "id": "a35e6b77",
   "metadata": {},
   "outputs": [],
   "source": [
    "head"
   ]
  },
  {
   "cell_type": "code",
   "execution_count": null,
   "id": "f811de19",
   "metadata": {},
   "outputs": [],
   "source": [
    "ll3.next=LinkedList(3)\n",
    "ll3.next.next=LinkedList(35)\n",
    "ll3.next.next.next=LinkedList(37)\n",
    "\n"
   ]
  },
  {
   "cell_type": "code",
   "execution_count": null,
   "id": "b0fe5933",
   "metadata": {},
   "outputs": [],
   "source": [
    "temp=head\n",
    "while temp is not None:\n",
    "    print(temp.data, end=\"->\")\n",
    "    temp = temp.next"
   ]
  },
  {
   "cell_type": "code",
   "execution_count": null,
   "id": "5e52d3a0",
   "metadata": {},
   "outputs": [],
   "source": [
    "ll3.view_list()"
   ]
  },
  {
   "cell_type": "code",
   "execution_count": null,
   "id": "272282cd",
   "metadata": {},
   "outputs": [],
   "source": []
  },
  {
   "cell_type": "code",
   "execution_count": null,
   "id": "1d424ec4",
   "metadata": {},
   "outputs": [],
   "source": [
    "ll.addToList(45)"
   ]
  },
  {
   "cell_type": "code",
   "execution_count": null,
   "id": "2b963453",
   "metadata": {},
   "outputs": [],
   "source": [
    "ll.addToList(485)"
   ]
  },
  {
   "cell_type": "code",
   "execution_count": null,
   "id": "3f72af1f",
   "metadata": {},
   "outputs": [],
   "source": [
    "ll.view_list()"
   ]
  },
  {
   "cell_type": "code",
   "execution_count": null,
   "id": "0ca73090",
   "metadata": {},
   "outputs": [],
   "source": [
    "ll2=LinkedList()"
   ]
  },
  {
   "cell_type": "code",
   "execution_count": null,
   "id": "06cace9c",
   "metadata": {},
   "outputs": [],
   "source": [
    "ll2.view_list()"
   ]
  },
  {
   "cell_type": "code",
   "execution_count": null,
   "id": "8b1c16f9",
   "metadata": {},
   "outputs": [],
   "source": [
    "class ListNode:\n",
    "    def __init__(self, val=0, next=None):\n",
    "        self.val = val\n",
    "        self.next = next"
   ]
  },
  {
   "cell_type": "code",
   "execution_count": null,
   "id": "22248cf3",
   "metadata": {},
   "outputs": [],
   "source": [
    "head = ListNode(1)\n",
    "head.next = ListNode(2)\n",
    "head.next.next = ListNode(3)\n",
    "head.next.next.next = ListNode(4)\n",
    "head.next.next.next.next = head.next.next"
   ]
  },
  {
   "cell_type": "code",
   "execution_count": null,
   "id": "3680df17",
   "metadata": {},
   "outputs": [],
   "source": [
    "current = head\n",
    "while current is not None:\n",
    "    print(current.val, end=\"->\")\n",
    "    current = current.next"
   ]
  },
  {
   "cell_type": "code",
   "execution_count": null,
   "id": "c456d39b",
   "metadata": {},
   "outputs": [],
   "source": [
    "class linkedlist:\n",
    "    def __init__(self,data=0,next=None):\n",
    "        self.data=data\n",
    "        self.next=next"
   ]
  },
  {
   "cell_type": "code",
   "execution_count": null,
   "id": "d332b2d7",
   "metadata": {},
   "outputs": [],
   "source": [
    "li=linkedlist(2)"
   ]
  },
  {
   "cell_type": "code",
   "execution_count": null,
   "id": "79a77d69",
   "metadata": {},
   "outputs": [],
   "source": [
    "li=linkedlist(2)\n",
    "li.next=linkedlist(1)\n",
    "li.next.next=linkedlist(13)\n",
    "li.next.next.next=linkedlist(56)\n",
    "li.next.next.next.next=li.next"
   ]
  },
  {
   "cell_type": "code",
   "execution_count": null,
   "id": "72366909",
   "metadata": {},
   "outputs": [],
   "source": [
    "tmp = li\n",
    "while tmp is not None:\n",
    "    print(tmp.data,end=\"->\")\n",
    "    tmp=tmp.next\n",
    "print(\"null\")    \n",
    "    "
   ]
  },
  {
   "cell_type": "code",
   "execution_count": null,
   "id": "c8fe22e7",
   "metadata": {},
   "outputs": [],
   "source": [
    "current = li\n",
    "while current is not None:\n",
    "    print(current.data)\n",
    "    current = current.next"
   ]
  },
  {
   "cell_type": "code",
   "execution_count": null,
   "id": "c49295fc",
   "metadata": {},
   "outputs": [],
   "source": [
    "def view_list(head):\n",
    "    current=head\n",
    "    while current is not None:\n",
    "        print(current.data)\n",
    "        current = current.next\n",
    "    "
   ]
  },
  {
   "cell_type": "code",
   "execution_count": null,
   "id": "0ba2d766",
   "metadata": {},
   "outputs": [],
   "source": [
    "view_list(li)"
   ]
  },
  {
   "cell_type": "code",
   "execution_count": 1,
   "id": "265a432f",
   "metadata": {},
   "outputs": [],
   "source": [
    "class Node:\n",
    "    def __init__(self,data):\n",
    "        self.data=data\n",
    "        self.next=None\n",
    "           "
   ]
  },
  {
   "cell_type": "code",
   "execution_count": 14,
   "id": "6bf4235d",
   "metadata": {},
   "outputs": [],
   "source": [
    "class linkedlist:\n",
    "    def __init__(self):\n",
    "        self.head=None\n",
    "        \n",
    "    def insert_first(self,value):\n",
    "        new_node=Node(value)\n",
    "        new_node.next=self.head\n",
    "        self.head=new_node    \n",
    "    \n",
    "    def insert_last(self,value):\n",
    "        new_node=Node(value)\n",
    "        if self.head==None:\n",
    "            self.head=new_node\n",
    "        else:\n",
    "            temp=self.head\n",
    "            while temp.next!=None:\n",
    "                temp=temp.next\n",
    "            temp.next=new_node    \n",
    "            \n",
    "    def delete_first(self):\n",
    "        if self.head==None:\n",
    "            print(\"list is empty\")\n",
    "            \n",
    "        else:\n",
    "            self.head=self.head.next\n",
    "      \n",
    "    def removelast(self):\n",
    "        if self.head == None:\n",
    "            return None\n",
    "        if self.head.next == None:\n",
    "            self.head = None\n",
    "            return None\n",
    "        second_last = self.head\n",
    "        while second_last.next.next!=None:\n",
    "            second_last = second_last.next\n",
    "            second_last.next = None\n",
    "        return self.head\n",
    "            \n",
    "    \n",
    "    def removeLastNode(head):\n",
    "        if head == None:\n",
    "            return None\n",
    "        if head.next == None:\n",
    "            head = None\n",
    "            return None\n",
    "        second_last = head\n",
    "        while(second_last.next.next):\n",
    "            second_last = second_last.next\n",
    "            second_last.next = None\n",
    "        return head\n",
    "            \n",
    "            \n",
    "    def delete_last(self):\n",
    "        if self.head==None:\n",
    "            print(\"list is empty\")\n",
    "            \n",
    "        else:\n",
    "            temp=self.head\n",
    "            while temp.next!=None:\n",
    "                temp=temp.next \n",
    "            temp=None \n",
    "        return temp    \n",
    "        \n",
    "    \"\"\"\"def delete_first(self,key):\n",
    "        temp=self.head\n",
    "        while temp.next!=None:\n",
    "            if temp.data==key:\n",
    "                temp=temp.next   \n",
    "            temp=temp.next\"\"\"\n",
    "     \n",
    "    \n",
    "    def view_list(self):\n",
    "        if self.head==None:\n",
    "            print(\"list is empty\")\n",
    "        else:\n",
    "            temp=self.head\n",
    "            while temp!=None:\n",
    "                print(temp.data,end='->')\n",
    "                temp=temp.next\n",
    "            print(\"Null\")    \n",
    "        \n",
    "        \n",
    "    def viewfast(self):\n",
    "        if self.head==None:\n",
    "            print(\"list is empty\")\n",
    "        else:\n",
    "            temp=self.head\n",
    "            while temp!=None:\n",
    "                print(temp.data,end='->')\n",
    "                temp=temp.next.next\n",
    "            print(\"Null\")    "
   ]
  },
  {
   "cell_type": "code",
   "execution_count": 5,
   "id": "11421871",
   "metadata": {},
   "outputs": [
    {
     "ename": "AttributeError",
     "evalue": "'linkedlist' object has no attribute 'next'",
     "output_type": "error",
     "traceback": [
      "\u001b[1;31m---------------------------------------------------------------------------\u001b[0m",
      "\u001b[1;31mAttributeError\u001b[0m                            Traceback (most recent call last)",
      "\u001b[1;32m~\\AppData\\Local\\Temp/ipykernel_12176/4185573470.py\u001b[0m in \u001b[0;36m<module>\u001b[1;34m\u001b[0m\n\u001b[1;32m----> 1\u001b[1;33m \u001b[0mmylist\u001b[0m\u001b[1;33m.\u001b[0m\u001b[0mremoveLastNode\u001b[0m\u001b[1;33m(\u001b[0m\u001b[1;33m)\u001b[0m\u001b[1;33m\u001b[0m\u001b[1;33m\u001b[0m\u001b[0m\n\u001b[0m",
      "\u001b[1;32m~\\AppData\\Local\\Temp/ipykernel_12176/4180354749.py\u001b[0m in \u001b[0;36mremoveLastNode\u001b[1;34m(head)\u001b[0m\n\u001b[0;32m     41\u001b[0m         \u001b[1;32mif\u001b[0m \u001b[0mhead\u001b[0m \u001b[1;33m==\u001b[0m \u001b[1;32mNone\u001b[0m\u001b[1;33m:\u001b[0m\u001b[1;33m\u001b[0m\u001b[1;33m\u001b[0m\u001b[0m\n\u001b[0;32m     42\u001b[0m             \u001b[1;32mreturn\u001b[0m \u001b[1;32mNone\u001b[0m\u001b[1;33m\u001b[0m\u001b[1;33m\u001b[0m\u001b[0m\n\u001b[1;32m---> 43\u001b[1;33m         \u001b[1;32mif\u001b[0m \u001b[0mhead\u001b[0m\u001b[1;33m.\u001b[0m\u001b[0mnext\u001b[0m \u001b[1;33m==\u001b[0m \u001b[1;32mNone\u001b[0m\u001b[1;33m:\u001b[0m\u001b[1;33m\u001b[0m\u001b[1;33m\u001b[0m\u001b[0m\n\u001b[0m\u001b[0;32m     44\u001b[0m             \u001b[0mhead\u001b[0m \u001b[1;33m=\u001b[0m \u001b[1;32mNone\u001b[0m\u001b[1;33m\u001b[0m\u001b[1;33m\u001b[0m\u001b[0m\n\u001b[0;32m     45\u001b[0m             \u001b[1;32mreturn\u001b[0m \u001b[1;32mNone\u001b[0m\u001b[1;33m\u001b[0m\u001b[1;33m\u001b[0m\u001b[0m\n",
      "\u001b[1;31mAttributeError\u001b[0m: 'linkedlist' object has no attribute 'next'"
     ]
    }
   ],
   "source": [
    "mylist.removeLastNode()"
   ]
  },
  {
   "cell_type": "code",
   "execution_count": null,
   "id": "61621437",
   "metadata": {},
   "outputs": [],
   "source": []
  },
  {
   "cell_type": "code",
   "execution_count": 12,
   "id": "bbaa9b21",
   "metadata": {},
   "outputs": [
    {
     "name": "stdout",
     "output_type": "stream",
     "text": [
      "4->3->Null\n"
     ]
    }
   ],
   "source": [
    "ll=mylist.view_list()"
   ]
  },
  {
   "cell_type": "code",
   "execution_count": 3,
   "id": "3d41436e",
   "metadata": {},
   "outputs": [],
   "source": [
    "mylist=()"
   ]
  },
  {
   "cell_type": "code",
   "execution_count": 9,
   "id": "e86e529f",
   "metadata": {},
   "outputs": [],
   "source": [
    "mylist.insert_first(1)\n",
    "mylist.insert_first(2)\n",
    "mylist.insert_first(3)\n",
    "mylist.insert_first(4)\n",
    "#mylist.delete_first(2)\n",
    "#mylist.insert_last(53452)"
   ]
  },
  {
   "cell_type": "code",
   "execution_count": 13,
   "id": "f9c45126",
   "metadata": {},
   "outputs": [
    {
     "name": "stdout",
     "output_type": "stream",
     "text": [
      "4->3->Null\n"
     ]
    }
   ],
   "source": [
    "mylist.view_list()"
   ]
  },
  {
   "cell_type": "code",
   "execution_count": 7,
   "id": "eb756348",
   "metadata": {},
   "outputs": [
    {
     "ename": "NameError",
     "evalue": "name 'll' is not defined",
     "output_type": "error",
     "traceback": [
      "\u001b[1;31m---------------------------------------------------------------------------\u001b[0m",
      "\u001b[1;31mNameError\u001b[0m                                 Traceback (most recent call last)",
      "\u001b[1;32m~\\AppData\\Local\\Temp/ipykernel_12176/2224235068.py\u001b[0m in \u001b[0;36m<module>\u001b[1;34m\u001b[0m\n\u001b[1;32m----> 1\u001b[1;33m \u001b[0mview_list\u001b[0m\u001b[1;33m(\u001b[0m\u001b[0mll\u001b[0m\u001b[1;33m)\u001b[0m\u001b[1;33m\u001b[0m\u001b[1;33m\u001b[0m\u001b[0m\n\u001b[0m",
      "\u001b[1;31mNameError\u001b[0m: name 'll' is not defined"
     ]
    }
   ],
   "source": [
    "view_list(ll)"
   ]
  },
  {
   "cell_type": "code",
   "execution_count": null,
   "id": "d638faff",
   "metadata": {},
   "outputs": [],
   "source": [
    "mylist.delete_last()"
   ]
  },
  {
   "cell_type": "code",
   "execution_count": 6,
   "id": "837bdb7f",
   "metadata": {},
   "outputs": [],
   "source": [
    "def view_list(head):\n",
    "    current=head\n",
    "    while current is not None:\n",
    "        print(current.data)\n",
    "        current = current.next"
   ]
  },
  {
   "cell_type": "code",
   "execution_count": null,
   "id": "b1e158e2",
   "metadata": {},
   "outputs": [],
   "source": [
    "# Python3 program to remove the last node of\n",
    "# linked list.\n",
    "import sys\n",
    "import math\n",
    "\n",
    "# Link list node\n",
    "class Node:\n",
    "\tdef __init__(self, data):\n",
    "\t\tself.data = data\n",
    "\t\tself.next = None\n",
    "\n",
    "# Function to push node at head\n",
    "def push(head, data):\n",
    "\tif not head:\n",
    "\t\treturn Node(data)\n",
    "\ttemp = Node(data)\n",
    "\ttemp.next = head\n",
    "\thead = temp\n",
    "\treturn head\n",
    "\n",
    "# Function to remove the last node\n",
    "# of the linked list\n",
    "def removeLastNode(head):\n",
    "\tif head == None:\n",
    "\t\treturn None\n",
    "\tif head.next == None:\n",
    "\t\thead = None\n",
    "\t\treturn None\n",
    "\tsecond_last = head\n",
    "\twhile(second_last.next.next):\n",
    "\t\tsecond_last = second_last.next\n",
    "\tsecond_last.next = None\n",
    "\treturn head\n",
    "\n",
    "# Driver code\n",
    "if __name__=='__main__':\n",
    "\n",
    "\t# Start with the empty list\n",
    "\thead = None\n",
    "\t# Use push() function to construct\n",
    "\t# the below list 8 . 23 . 11 . 29 . 12\n",
    "\thead = push(head, 12)\n",
    "\thead = push(head, 29)\n",
    "\thead = push(head, 11)\n",
    "\thead = push(head, 23)\n",
    "\thead = push(head, 8)\n",
    "\n",
    "\thead = removeLastNode(head)\n",
    "\twhile(head):\n",
    "\t\tprint(\"{} \".format(head.data), end =\"\")\n",
    "\t\thead = head.next\n",
    "\n",
    "# This code is contributed by Vikash kumar 37\n"
   ]
  },
  {
   "cell_type": "code",
   "execution_count": null,
   "id": "a7ca1414",
   "metadata": {},
   "outputs": [],
   "source": [
    "head = removeLastNode(head)"
   ]
  },
  {
   "cell_type": "code",
   "execution_count": null,
   "id": "892d46ca",
   "metadata": {},
   "outputs": [],
   "source": [
    "while(head):\n",
    "\t\tprint(\"{} \".format(head.data), end =\"\")\n",
    "\t\thead = head.next"
   ]
  },
  {
   "cell_type": "code",
   "execution_count": null,
   "id": "9dd04805",
   "metadata": {},
   "outputs": [],
   "source": [
    "if __name__=='__main__':\n",
    "\n",
    "\t# Start with the empty list\n",
    "\thead = None\n",
    "\t# Use push() function to construct\n",
    "\t# the below list 8 . 23 . 11 . 29 . 12\n",
    "\thead = push(head, 12)\n",
    "\thead = push(head, 29)\n",
    "\thead = push(head, 11)\n",
    "\thead = push(head, 23)\n",
    "\thead = push(head, 8)\n",
    "\n",
    "\thead = removeLastNode(head)\n",
    "\twhile(head):\n",
    "\t\tprint(\"{} \".format(head.data), end =\"\")\n",
    "\t\thead = head.next\n"
   ]
  },
  {
   "cell_type": "code",
   "execution_count": 4,
   "id": "332cbdb3",
   "metadata": {},
   "outputs": [],
   "source": [
    "A=[]"
   ]
  },
  {
   "cell_type": "code",
   "execution_count": 12,
   "id": "6742c096",
   "metadata": {},
   "outputs": [],
   "source": [
    "import collections"
   ]
  },
  {
   "cell_type": "code",
   "execution_count": 16,
   "id": "ecb45080",
   "metadata": {},
   "outputs": [],
   "source": [
    "from collections import deque"
   ]
  },
  {
   "cell_type": "code",
   "execution_count": 23,
   "id": "a1d70b08",
   "metadata": {},
   "outputs": [],
   "source": [
    "Q=deque()"
   ]
  },
  {
   "cell_type": "code",
   "execution_count": 18,
   "id": "9b2149a6",
   "metadata": {},
   "outputs": [
    {
     "data": {
      "text/plain": [
       "collections.deque"
      ]
     },
     "execution_count": 18,
     "metadata": {},
     "output_type": "execute_result"
    }
   ],
   "source": [
    "type(Q)"
   ]
  },
  {
   "cell_type": "code",
   "execution_count": 20,
   "id": "9f0f73db",
   "metadata": {},
   "outputs": [],
   "source": [
    "Q=[4,7,9]"
   ]
  },
  {
   "cell_type": "code",
   "execution_count": 22,
   "id": "4e49d629",
   "metadata": {},
   "outputs": [
    {
     "data": {
      "text/plain": [
       "list"
      ]
     },
     "execution_count": 22,
     "metadata": {},
     "output_type": "execute_result"
    }
   ],
   "source": [
    "type(Q)"
   ]
  },
  {
   "cell_type": "code",
   "execution_count": 26,
   "id": "5c902ed9",
   "metadata": {},
   "outputs": [],
   "source": [
    "Q.appendleft(2)\n",
    "Q.appendleft(22)\n",
    "Q.appendleft(23)\n",
    "Q.appendleft(24)"
   ]
  },
  {
   "cell_type": "code",
   "execution_count": 28,
   "id": "d6250f4f",
   "metadata": {},
   "outputs": [
    {
     "data": {
      "text/plain": [
       "2"
      ]
     },
     "execution_count": 28,
     "metadata": {},
     "output_type": "execute_result"
    }
   ],
   "source": [
    "Q.pop()"
   ]
  },
  {
   "cell_type": "code",
   "execution_count": 29,
   "id": "e5e73c13",
   "metadata": {},
   "outputs": [
    {
     "name": "stdout",
     "output_type": "stream",
     "text": [
      "deque([24, 23, 22, 2])\n"
     ]
    }
   ],
   "source": [
    "print(Q)"
   ]
  },
  {
   "cell_type": "code",
   "execution_count": null,
   "id": "cbab491e",
   "metadata": {},
   "outputs": [],
   "source": []
  }
 ],
 "metadata": {
  "kernelspec": {
   "display_name": "Python 3 (ipykernel)",
   "language": "python",
   "name": "python3"
  },
  "language_info": {
   "codemirror_mode": {
    "name": "ipython",
    "version": 3
   },
   "file_extension": ".py",
   "mimetype": "text/x-python",
   "name": "python",
   "nbconvert_exporter": "python",
   "pygments_lexer": "ipython3",
   "version": "3.9.7"
  }
 },
 "nbformat": 4,
 "nbformat_minor": 5
}
