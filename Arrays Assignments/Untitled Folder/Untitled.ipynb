{
 "cells": [
  {
   "cell_type": "code",
   "execution_count": null,
   "id": "0769ad7e",
   "metadata": {},
   "outputs": [],
   "source": [
    "#creating linked list "
   ]
  },
  {
   "cell_type": "code",
   "execution_count": 1,
   "id": "4e970216",
   "metadata": {},
   "outputs": [],
   "source": [
    "class Node():\n",
    "    def __init__(self,data):\n",
    "        self.data=data\n",
    "        self.next=None\n",
    "\n",
    "class linked_list():\n",
    "    def __init__(self):\n",
    "        self.head=None\n",
    "        \n",
    "    def insert_first(self,value):\n",
    "        new_node=Node(value)\n",
    "        new_node.next=self.head\n",
    "        self.head=new_node\n",
    "     \n",
    "    def insert_last(self,value):\n",
    "        new_node=Node(value)\n",
    "        if self.head==None:\n",
    "            sel.head=new_node\n",
    "            \n",
    "        else:\n",
    "            temp=self.head\n",
    "            while temp.next!=None:\n",
    "                temp=temp.next\n",
    "            new_node=temp.next\n",
    "            \n",
    "            \n",
    "    def add_in_last(self,value):\n",
    "        new_node=Node(value)\n",
    "        if (self.head==None):\n",
    "            self.head=new_node\n",
    "        else:\n",
    "            temp=self.head\n",
    "            while temp.next!=None:\n",
    "                temp=temp.next\n",
    "            new_node=temp.next\n",
    "            new_node.next=None        \n",
    "          \n",
    "    def view_list(self):\n",
    "        if self.head==None:\n",
    "            print(\"the is empty\")\n",
    "        else:\n",
    "            temp=self.head\n",
    "            while temp!=None:\n",
    "                print(temp.data)\n",
    "                temp=temp.next\n",
    "    "
   ]
  },
  {
   "cell_type": "code",
   "execution_count": 2,
   "id": "14007041",
   "metadata": {},
   "outputs": [],
   "source": [
    "mylist=linked_list()"
   ]
  },
  {
   "cell_type": "code",
   "execution_count": 5,
   "id": "58f0ab0e",
   "metadata": {},
   "outputs": [
    {
     "ename": "AttributeError",
     "evalue": "'NoneType' object has no attribute 'next'",
     "output_type": "error",
     "traceback": [
      "\u001b[1;31m---------------------------------------------------------------------------\u001b[0m",
      "\u001b[1;31mAttributeError\u001b[0m                            Traceback (most recent call last)",
      "\u001b[1;32m~\\AppData\\Local\\Temp/ipykernel_5496/473416935.py\u001b[0m in \u001b[0;36m<module>\u001b[1;34m\u001b[0m\n\u001b[1;32m----> 1\u001b[1;33m \u001b[0mmylist\u001b[0m\u001b[1;33m.\u001b[0m\u001b[0madd_in_last\u001b[0m\u001b[1;33m(\u001b[0m\u001b[1;36m16\u001b[0m\u001b[1;33m)\u001b[0m\u001b[1;33m\u001b[0m\u001b[1;33m\u001b[0m\u001b[0m\n\u001b[0m\u001b[0;32m      2\u001b[0m \u001b[0mmylist\u001b[0m\u001b[1;33m.\u001b[0m\u001b[0madd_in_last\u001b[0m\u001b[1;33m(\u001b[0m\u001b[1;36m15\u001b[0m\u001b[1;33m)\u001b[0m\u001b[1;33m\u001b[0m\u001b[1;33m\u001b[0m\u001b[0m\n\u001b[0;32m      3\u001b[0m \u001b[0mmylist\u001b[0m\u001b[1;33m.\u001b[0m\u001b[0madd_in_last\u001b[0m\u001b[1;33m(\u001b[0m\u001b[1;36m17\u001b[0m\u001b[1;33m)\u001b[0m\u001b[1;33m\u001b[0m\u001b[1;33m\u001b[0m\u001b[0m\n",
      "\u001b[1;32m~\\AppData\\Local\\Temp/ipykernel_5496/1166849631.py\u001b[0m in \u001b[0;36madd_in_last\u001b[1;34m(self, value)\u001b[0m\n\u001b[0;32m     34\u001b[0m                 \u001b[0mtemp\u001b[0m\u001b[1;33m=\u001b[0m\u001b[0mtemp\u001b[0m\u001b[1;33m.\u001b[0m\u001b[0mnext\u001b[0m\u001b[1;33m\u001b[0m\u001b[1;33m\u001b[0m\u001b[0m\n\u001b[0;32m     35\u001b[0m             \u001b[0mnew_node\u001b[0m\u001b[1;33m=\u001b[0m\u001b[0mtemp\u001b[0m\u001b[1;33m.\u001b[0m\u001b[0mnext\u001b[0m\u001b[1;33m\u001b[0m\u001b[1;33m\u001b[0m\u001b[0m\n\u001b[1;32m---> 36\u001b[1;33m             \u001b[0mnew_node\u001b[0m\u001b[1;33m.\u001b[0m\u001b[0mnext\u001b[0m\u001b[1;33m=\u001b[0m\u001b[1;32mNone\u001b[0m\u001b[1;33m\u001b[0m\u001b[1;33m\u001b[0m\u001b[0m\n\u001b[0m\u001b[0;32m     37\u001b[0m \u001b[1;33m\u001b[0m\u001b[0m\n\u001b[0;32m     38\u001b[0m     \u001b[1;32mdef\u001b[0m \u001b[0mview_list\u001b[0m\u001b[1;33m(\u001b[0m\u001b[0mself\u001b[0m\u001b[1;33m)\u001b[0m\u001b[1;33m:\u001b[0m\u001b[1;33m\u001b[0m\u001b[1;33m\u001b[0m\u001b[0m\n",
      "\u001b[1;31mAttributeError\u001b[0m: 'NoneType' object has no attribute 'next'"
     ]
    }
   ],
   "source": [
    "\n",
    "mylist.add_in_last(16)\n",
    "mylist.add_in_last(15)\n",
    "mylist.add_in_last(17)\n"
   ]
  },
  {
   "cell_type": "code",
   "execution_count": null,
   "id": "93e63c6a",
   "metadata": {},
   "outputs": [],
   "source": [
    "mylist.view_list()"
   ]
  },
  {
   "cell_type": "code",
   "execution_count": null,
   "id": "63139697",
   "metadata": {},
   "outputs": [],
   "source": []
  },
  {
   "cell_type": "code",
   "execution_count": null,
   "id": "3e31eef8",
   "metadata": {},
   "outputs": [],
   "source": []
  }
 ],
 "metadata": {
  "kernelspec": {
   "display_name": "Python 3 (ipykernel)",
   "language": "python",
   "name": "python3"
  },
  "language_info": {
   "codemirror_mode": {
    "name": "ipython",
    "version": 3
   },
   "file_extension": ".py",
   "mimetype": "text/x-python",
   "name": "python",
   "nbconvert_exporter": "python",
   "pygments_lexer": "ipython3",
   "version": "3.9.7"
  }
 },
 "nbformat": 4,
 "nbformat_minor": 5
}
