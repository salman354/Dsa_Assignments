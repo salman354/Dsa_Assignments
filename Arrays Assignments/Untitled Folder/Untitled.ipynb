{
 "cells": [
  {
   "cell_type": "code",
   "execution_count": null,
   "id": "0769ad7e",
   "metadata": {},
   "outputs": [],
   "source": [
    "#creating linked list "
   ]
  },
  {
   "cell_type": "code",
   "execution_count": null,
   "id": "4e970216",
   "metadata": {},
   "outputs": [],
   "source": [
    "class Node():\n",
    "    def __init__(self,data):\n",
    "        self.data=data\n",
    "        self.next=None\n",
    "\n",
    "class linked_list():\n",
    "    def __init__(self):\n",
    "        self.head=None\n",
    "        \n",
    "    def insert_first(self,value):\n",
    "        new_node=Node(value)\n",
    "        new_node.next=self.head\n",
    "        self.head=new_node\n",
    "     \n",
    "    def insert_last(self,value):\n",
    "        new_node=Node(value)\n",
    "        if self.head==None:\n",
    "            sel.head=new_node\n",
    "            \n",
    "        else:\n",
    "            temp=self.head\n",
    "            while temp.next!=None:\n",
    "                temp=temp.next\n",
    "            new_node=temp.next\n",
    "            \n",
    "            \n",
    "    def add_in_last(self,value):\n",
    "        new_node=Node(value)\n",
    "        if (self.head==None):\n",
    "            self.head=new_node\n",
    "        else:\n",
    "            temp=self.head\n",
    "            while temp.next!=None:\n",
    "                temp=temp.next\n",
    "            new_node=temp.next\n",
    "            new_node.next=None        \n",
    "          \n",
    "    def view_list(self):\n",
    "        if self.head==None:\n",
    "            print(\"the is empty\")\n",
    "        else:\n",
    "            temp=self.head\n",
    "            while temp!=None:\n",
    "                print(temp.data)\n",
    "                temp=temp.next\n",
    "    "
   ]
  },
  {
   "cell_type": "code",
   "execution_count": null,
   "id": "14007041",
   "metadata": {},
   "outputs": [],
   "source": [
    "mylist=linked_list()"
   ]
  },
  {
   "cell_type": "code",
   "execution_count": null,
   "id": "58f0ab0e",
   "metadata": {},
   "outputs": [],
   "source": [
    "\n",
    "mylist.add_in_last(16)\n",
    "mylist.add_in_last(15)\n",
    "mylist.add_in_last(17)\n"
   ]
  },
  {
   "cell_type": "code",
   "execution_count": null,
   "id": "93e63c6a",
   "metadata": {},
   "outputs": [],
   "source": [
    "mylist.view_list()"
   ]
  },
  {
   "cell_type": "code",
   "execution_count": null,
   "id": "63139697",
   "metadata": {},
   "outputs": [],
   "source": [
    "class Node:\n",
    "    def __init__(self,data):\n",
    "        self.data=data\n",
    "        self.next=None\n",
    "        \n",
    "class linked_list:\n",
    "    def __init__(self,head):\n",
    "        self.head=head\n",
    "     \n",
    "    def addToList(self, data):\n",
    "        newNode = Node(data)\n",
    "        if self.head is None:\n",
    "            self.head = newNode\n",
    "            return\n",
    "        last = self.head\n",
    "        while last.next:\n",
    "            last = last.next\n",
    "        last.next = newNode\n",
    "    \n",
    "    \n",
    "    def view_list(self):\n",
    "        if self.head==None:\n",
    "            print(\"linked list is empty\")   \n",
    "            \n",
    "        else:\n",
    "            temp=self.head\n",
    "            while(temp!=None):\n",
    "                print(temp)\n",
    "                temp=temp.next\n",
    "                \n",
    "    \n",
    "                       \n",
    "                   \n",
    "                \n",
    "                "
   ]
  },
  {
   "cell_type": "code",
   "execution_count": null,
   "id": "3e31eef8",
   "metadata": {},
   "outputs": [],
   "source": [
    "mylist=linked_list(1)"
   ]
  },
  {
   "cell_type": "code",
   "execution_count": null,
   "id": "585b0e1a",
   "metadata": {},
   "outputs": [],
   "source": [
    "head=linked_list(1)"
   ]
  },
  {
   "cell_type": "code",
   "execution_count": null,
   "id": "d2427b98",
   "metadata": {},
   "outputs": [],
   "source": [
    "head.next=linked_list(2)\n",
    "head.next.next=linked_list(4)\n"
   ]
  },
  {
   "cell_type": "code",
   "execution_count": null,
   "id": "4a88c8b1",
   "metadata": {},
   "outputs": [],
   "source": [
    "mylist.view_list()"
   ]
  },
  {
   "cell_type": "code",
   "execution_count": null,
   "id": "72097f05",
   "metadata": {},
   "outputs": [],
   "source": [
    "class Node():\n",
    "    def __init__(self,data):\n",
    "        self.data=data\n",
    "        self.next=None\n",
    "        \n",
    "class linked_list():\n",
    "    def __init__(self,head):\n",
    "        self.head=None\n",
    "        \n",
    "    def inser_last(self,value):\n",
    "        new_node=Node\n",
    "        \n",
    "    def view_list(self,head):\n",
    "        if self.head==None:\n",
    "            print(\"linked list is empty\")   \n",
    "            \n",
    "        else:\n",
    "            temp=self.head\n",
    "            while(temp!=None):\n",
    "                print(temp)\n",
    "                temp=temp.next     \n",
    "        "
   ]
  },
  {
   "cell_type": "code",
   "execution_count": null,
   "id": "c783414c",
   "metadata": {},
   "outputs": [],
   "source": []
  },
  {
   "cell_type": "code",
   "execution_count": null,
   "id": "21329999",
   "metadata": {},
   "outputs": [],
   "source": [
    "class ListNode:\n",
    "    def __init__(self, val=0, next=None):\n",
    "        self.val = val\n",
    "        self.next = next   \n",
    "    \n",
    "    def view_list(self,head):\n",
    "        if self.head==None:\n",
    "            print(\"linked list is empty\")   \n",
    "            \n",
    "        else:\n",
    "            temp=self.head\n",
    "            while(temp!=None):\n",
    "                print(temp)\n",
    "                temp=temp.next"
   ]
  },
  {
   "cell_type": "code",
   "execution_count": null,
   "id": "2c88ad91",
   "metadata": {},
   "outputs": [],
   "source": [
    "head.next=linked_list(2)"
   ]
  },
  {
   "cell_type": "code",
   "execution_count": null,
   "id": "7810d778",
   "metadata": {},
   "outputs": [],
   "source": [
    "head.view_list()"
   ]
  },
  {
   "cell_type": "code",
   "execution_count": null,
   "id": "3578ca3e",
   "metadata": {},
   "outputs": [],
   "source": [
    "class Node:\n",
    "    def __init__(self,data):\n",
    "        self.data=data\n",
    "        self.next=None\n",
    "        \n",
    "class linked_list:\n",
    "    def __init__(self):\n",
    "        self.head=None\n",
    "    \n",
    "    def insert_last(self,data):\n",
    "        newnode=Node(data)\n",
    "        if self.head==None:\n",
    "            self.head=newnode\n",
    "            \n",
    "        else:\n",
    "            temp=self.head\n",
    "            while temp!=None:\n",
    "                temp=temp.next\n",
    "            temp.next=newnode\n",
    "                                        \n",
    "        \n",
    "        "
   ]
  },
  {
   "cell_type": "code",
   "execution_count": null,
   "id": "aaa3aec1",
   "metadata": {},
   "outputs": [],
   "source": [
    "l=linked_list()"
   ]
  },
  {
   "cell_type": "code",
   "execution_count": null,
   "id": "10872ba9",
   "metadata": {},
   "outputs": [],
   "source": [
    "l.insert_last(1)"
   ]
  },
  {
   "cell_type": "code",
   "execution_count": null,
   "id": "43386783",
   "metadata": {},
   "outputs": [],
   "source": [
    "class Node:\n",
    "\n",
    "    def __init__(self, data):\n",
    "\n",
    "        self.data = data\n",
    "        self.next = None\n",
    "class LinkedList:\n",
    "    def __init__(self):\n",
    "        self.head = None\n",
    "        \n",
    "        \n",
    "    def addToList(self, data): \n",
    "        newNode = Node(data)\n",
    "        if self.head is None:\n",
    "            self.head = newNode\n",
    "            return\n",
    "        last = self.head\n",
    "        while last.next:\n",
    "            last = last.next\n",
    "        last.next = newNode\n",
    "        \n",
    "    def view_list(self):\n",
    "        if self.head==None:\n",
    "            print(\"linked list is empty\")   \n",
    "            \n",
    "        else:\n",
    "            temp=self.head\n",
    "            while(temp!=None):\n",
    "                print(temp.data)\n",
    "                temp=temp.next    \n",
    "        "
   ]
  },
  {
   "cell_type": "code",
   "execution_count": null,
   "id": "90fbfb6e",
   "metadata": {},
   "outputs": [],
   "source": [
    "ll=LinkedList()"
   ]
  },
  {
   "cell_type": "code",
   "execution_count": null,
   "id": "936fa975",
   "metadata": {},
   "outputs": [],
   "source": [
    "ll.addToList(12)\n",
    "ll.addToList(18)\n",
    "ll.addToList(13)\n",
    "ll.addToList(16)\n",
    "ll.addToList(19)"
   ]
  },
  {
   "cell_type": "code",
   "execution_count": null,
   "id": "3cc63e74",
   "metadata": {},
   "outputs": [],
   "source": [
    "ll3.next.next=LinkedList(35)"
   ]
  },
  {
   "cell_type": "code",
   "execution_count": null,
   "id": "ddccfa54",
   "metadata": {},
   "outputs": [],
   "source": [
    "ll3=LinkedList()"
   ]
  },
  {
   "cell_type": "code",
   "execution_count": null,
   "id": "b4dd8e2f",
   "metadata": {},
   "outputs": [],
   "source": [
    "head=ll.view_list()"
   ]
  },
  {
   "cell_type": "code",
   "execution_count": null,
   "id": "adb673f4",
   "metadata": {},
   "outputs": [],
   "source": [
    "head"
   ]
  },
  {
   "cell_type": "code",
   "execution_count": null,
   "id": "79e79f5b",
   "metadata": {},
   "outputs": [],
   "source": [
    "ll3.next=LinkedList(3)\n",
    "ll3.next.next=LinkedList(35)\n",
    "ll3.next.next.next=LinkedList(37)\n",
    "\n"
   ]
  },
  {
   "cell_type": "code",
   "execution_count": null,
   "id": "41ae5487",
   "metadata": {},
   "outputs": [],
   "source": [
    "temp=head\n",
    "while temp is not None:\n",
    "    print(temp.data, end=\"->\")\n",
    "    temp = temp.next"
   ]
  },
  {
   "cell_type": "code",
   "execution_count": null,
   "id": "44d5b792",
   "metadata": {},
   "outputs": [],
   "source": [
    "ll3.view_list()"
   ]
  },
  {
   "cell_type": "code",
   "execution_count": null,
   "id": "7637e440",
   "metadata": {},
   "outputs": [],
   "source": []
  },
  {
   "cell_type": "code",
   "execution_count": null,
   "id": "64b1b17d",
   "metadata": {},
   "outputs": [],
   "source": [
    "ll.addToList(45)"
   ]
  },
  {
   "cell_type": "code",
   "execution_count": null,
   "id": "c2ac03a0",
   "metadata": {},
   "outputs": [],
   "source": [
    "ll.addToList(485)"
   ]
  },
  {
   "cell_type": "code",
   "execution_count": null,
   "id": "e3f0fb6f",
   "metadata": {},
   "outputs": [],
   "source": [
    "ll.view_list()"
   ]
  },
  {
   "cell_type": "code",
   "execution_count": null,
   "id": "ce06011f",
   "metadata": {},
   "outputs": [],
   "source": [
    "ll2=LinkedList()"
   ]
  },
  {
   "cell_type": "code",
   "execution_count": null,
   "id": "3f16710a",
   "metadata": {},
   "outputs": [],
   "source": [
    "ll2.view_list()"
   ]
  },
  {
   "cell_type": "code",
   "execution_count": null,
   "id": "c83d9a33",
   "metadata": {},
   "outputs": [],
   "source": [
    "class ListNode:\n",
    "    def __init__(self, val=0, next=None):\n",
    "        self.val = val\n",
    "        self.next = next"
   ]
  },
  {
   "cell_type": "code",
   "execution_count": null,
   "id": "b4afc254",
   "metadata": {},
   "outputs": [],
   "source": [
    "head = ListNode(1)\n",
    "head.next = ListNode(2)\n",
    "head.next.next = ListNode(3)\n",
    "head.next.next.next = ListNode(4)\n",
    "head.next.next.next.next = ListNode(5)"
   ]
  },
  {
   "cell_type": "code",
   "execution_count": null,
   "id": "b9e3b894",
   "metadata": {},
   "outputs": [],
   "source": [
    "current = head\n",
    "while current is not None:\n",
    "    print(current.val, end=\"->\")\n",
    "    current = current.next"
   ]
  },
  {
   "cell_type": "code",
   "execution_count": 53,
   "id": "1fcf59c2",
   "metadata": {},
   "outputs": [],
   "source": [
    "class linkedlist:\n",
    "    def __init__(self,data=0,next=None):\n",
    "        self.data=data\n",
    "        self.next=next"
   ]
  },
  {
   "cell_type": "code",
   "execution_count": 54,
   "id": "659762f7",
   "metadata": {},
   "outputs": [],
   "source": [
    "li=linkedlist(2)"
   ]
  },
  {
   "cell_type": "code",
   "execution_count": 55,
   "id": "7c238498",
   "metadata": {},
   "outputs": [],
   "source": [
    "li=linkedlist(2)\n",
    "li.next=linkedlist(1)\n",
    "li.next.next=linkedlist(13)\n",
    "li.next.next.next=linkedlist(56)"
   ]
  },
  {
   "cell_type": "code",
   "execution_count": 57,
   "id": "a479a9f6",
   "metadata": {},
   "outputs": [
    {
     "name": "stdout",
     "output_type": "stream",
     "text": [
      "2->1->13->56->null\n"
     ]
    }
   ],
   "source": [
    "tmp = li\n",
    "while tmp is not None:\n",
    "    print(tmp.data,end=\"->\")\n",
    "    tmp=tmp.next\n",
    "print(\"null\")    \n",
    "    "
   ]
  },
  {
   "cell_type": "code",
   "execution_count": 48,
   "id": "412790cc",
   "metadata": {},
   "outputs": [
    {
     "name": "stdout",
     "output_type": "stream",
     "text": [
      "2\n",
      "1\n",
      "13\n",
      "56\n"
     ]
    }
   ],
   "source": [
    "current = li\n",
    "while current is not None:\n",
    "    print(current.data)\n",
    "    current = current.next"
   ]
  },
  {
   "cell_type": "code",
   "execution_count": 25,
   "id": "7cbfad91",
   "metadata": {},
   "outputs": [],
   "source": [
    "def view_list(head):\n",
    "    current=head\n",
    "    while current is not None:\n",
    "        print(current.data)\n",
    "        current = current.next\n",
    "    "
   ]
  },
  {
   "cell_type": "code",
   "execution_count": 19,
   "id": "6414cd62",
   "metadata": {},
   "outputs": [
    {
     "name": "stdout",
     "output_type": "stream",
     "text": [
      "2\n",
      "1\n",
      "13\n",
      "56\n"
     ]
    }
   ],
   "source": [
    "view_list(li)"
   ]
  },
  {
   "cell_type": "code",
   "execution_count": 58,
   "id": "a34ab1a2",
   "metadata": {},
   "outputs": [],
   "source": [
    "class Node:\n",
    "    def __init__(self,data):\n",
    "        self.data=data\n",
    "        self.next=None\n",
    "           "
   ]
  },
  {
   "cell_type": "code",
   "execution_count": 84,
   "id": "df1a98e7",
   "metadata": {},
   "outputs": [],
   "source": [
    "class linkedlist:\n",
    "    def __init__(self):\n",
    "        self.head=None\n",
    "        \n",
    "    def insert_first(self,value):\n",
    "        new_node=Node(value)\n",
    "        new_node.next=self.head\n",
    "        self.head=new_node\n",
    "        \n",
    "    def inser_last(self,value):\n",
    "        new_node=Node(value)\n",
    "        if self.head==None:\n",
    "            \n",
    "        \n",
    "    def view_list(self):\n",
    "        if self.head==None:\n",
    "            print(\"list is empty\")\n",
    "        else:\n",
    "            temp=self.head\n",
    "            while temp!=None:\n",
    "                print(temp.data,end='->')\n",
    "                temp=temp.next\n",
    "            print(\"Null\")    \n",
    "        "
   ]
  },
  {
   "cell_type": "code",
   "execution_count": 85,
   "id": "388f2f3d",
   "metadata": {},
   "outputs": [],
   "source": [
    "mylist=linkedlist()"
   ]
  },
  {
   "cell_type": "code",
   "execution_count": 90,
   "id": "7710cc38",
   "metadata": {},
   "outputs": [],
   "source": [
    "mylist.insert_first(1)\n",
    "mylist.insert_first(2)\n",
    "mylist.insert_first(3)\n",
    "mylist.insert_first(4)\n",
    "mylist.insert_first(5)"
   ]
  },
  {
   "cell_type": "code",
   "execution_count": 91,
   "id": "ce40dd2a",
   "metadata": {},
   "outputs": [
    {
     "name": "stdout",
     "output_type": "stream",
     "text": [
      "5->4->3->2->1->5->4->3->2->1->5->4->3->2->1->Null\n"
     ]
    }
   ],
   "source": [
    "mylist.view_list()"
   ]
  },
  {
   "cell_type": "code",
   "execution_count": 92,
   "id": "b974334f",
   "metadata": {},
   "outputs": [
    {
     "ename": "TypeError",
     "evalue": "'linkedlist' object cannot be interpreted as an integer",
     "output_type": "error",
     "traceback": [
      "\u001b[1;31m---------------------------------------------------------------------------\u001b[0m",
      "\u001b[1;31mTypeError\u001b[0m                                 Traceback (most recent call last)",
      "\u001b[1;32m~\\AppData\\Local\\Temp/ipykernel_15064/138165858.py\u001b[0m in \u001b[0;36m<module>\u001b[1;34m\u001b[0m\n\u001b[1;32m----> 1\u001b[1;33m \u001b[0mrange\u001b[0m\u001b[1;33m(\u001b[0m\u001b[0mmylist\u001b[0m\u001b[1;33m)\u001b[0m\u001b[1;33m\u001b[0m\u001b[1;33m\u001b[0m\u001b[0m\n\u001b[0m",
      "\u001b[1;31mTypeError\u001b[0m: 'linkedlist' object cannot be interpreted as an integer"
     ]
    }
   ],
   "source": [
    "range(mylist)"
   ]
  },
  {
   "cell_type": "code",
   "execution_count": null,
   "id": "6de7ffd0",
   "metadata": {},
   "outputs": [],
   "source": []
  }
 ],
 "metadata": {
  "kernelspec": {
   "display_name": "Python 3 (ipykernel)",
   "language": "python",
   "name": "python3"
  },
  "language_info": {
   "codemirror_mode": {
    "name": "ipython",
    "version": 3
   },
   "file_extension": ".py",
   "mimetype": "text/x-python",
   "name": "python",
   "nbconvert_exporter": "python",
   "pygments_lexer": "ipython3",
   "version": "3.9.7"
  }
 },
 "nbformat": 4,
 "nbformat_minor": 5
}
